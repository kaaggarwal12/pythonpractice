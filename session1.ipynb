{
 "cells": [
  {
   "cell_type": "code",
   "execution_count": 3,
   "id": "27026290-2f9a-4721-aae1-6c939ff2e9fc",
   "metadata": {},
   "outputs": [
    {
     "name": "stdout",
     "output_type": "stream",
     "text": [
      "good evening good evening good evening \n"
     ]
    }
   ],
   "source": [
    "print ('good evening ' * 3) "
   ]
  },
  {
   "cell_type": "code",
   "execution_count": 7,
   "id": "dce9df19-edf2-4039-93fd-562f98810bc1",
   "metadata": {},
   "outputs": [
    {
     "name": "stdout",
     "output_type": "stream",
     "text": [
      "good evening\n",
      "good evening\n",
      "good evening\n",
      "\n"
     ]
    }
   ],
   "source": [
    "print ('good evening\\n' *3)"
   ]
  },
  {
   "cell_type": "markdown",
   "id": "3512cc98-da83-4f1c-ba14-a896eb84a515",
   "metadata": {},
   "source": [
    "#### comparison"
   ]
  },
  {
   "cell_type": "markdown",
   "id": "19d557db-1276-48c1-ab82-b661f36e8541",
   "metadata": {},
   "source": [
    "##comparison"
   ]
  },
  {
   "cell_type": "markdown",
   "id": "78818127-51ca-4d8b-883e-d450a6027060",
   "metadata": {},
   "source": [
    "## comparison"
   ]
  },
  {
   "cell_type": "code",
   "execution_count": 22,
   "id": "3c8ca5a3-2c6b-4223-a1b7-9096c778ae8f",
   "metadata": {},
   "outputs": [
    {
     "data": {
      "text/plain": [
       "True"
      ]
     },
     "execution_count": 22,
     "metadata": {},
     "output_type": "execute_result"
    }
   ],
   "source": [
    "45 == 45"
   ]
  },
  {
   "cell_type": "code",
   "execution_count": 24,
   "id": "e46400b7-6c17-4175-aae2-61311d08ac49",
   "metadata": {},
   "outputs": [
    {
     "data": {
      "text/plain": [
       "False"
      ]
     },
     "execution_count": 24,
     "metadata": {},
     "output_type": "execute_result"
    }
   ],
   "source": [
    "943 == 765"
   ]
  },
  {
   "cell_type": "code",
   "execution_count": 28,
   "id": "4e746df8-4af8-4d16-96fb-795154964bf5",
   "metadata": {},
   "outputs": [
    {
     "data": {
      "text/plain": [
       "True"
      ]
     },
     "execution_count": 28,
     "metadata": {},
     "output_type": "execute_result"
    }
   ],
   "source": [
    "543 >= 274"
   ]
  },
  {
   "cell_type": "code",
   "execution_count": 30,
   "id": "b91484eb-4d0c-4541-964e-91600e020ade",
   "metadata": {},
   "outputs": [
    {
     "data": {
      "text/plain": [
       "46"
      ]
     },
     "execution_count": 30,
     "metadata": {},
     "output_type": "execute_result"
    }
   ],
   "source": [
    "A = 46\n",
    "A"
   ]
  },
  {
   "cell_type": "code",
   "execution_count": 32,
   "id": "6830c8b3-6ddd-4572-aa01-68e674db1d7b",
   "metadata": {},
   "outputs": [
    {
     "data": {
      "text/plain": [
       "269"
      ]
     },
     "execution_count": 32,
     "metadata": {},
     "output_type": "execute_result"
    }
   ],
   "source": [
    "a = 87\n",
    "b = 87\n",
    "a+b+95"
   ]
  },
  {
   "cell_type": "code",
   "execution_count": 56,
   "id": "a15b909f-222e-48cb-bf47-2b2f0c5de481",
   "metadata": {},
   "outputs": [],
   "source": [
    "a = 'gupta'\n",
    "b = 'rakesh '"
   ]
  },
  {
   "cell_type": "code",
   "execution_count": 58,
   "id": "a4769f69-951f-4a0c-9110-6b3dc4cb887a",
   "metadata": {},
   "outputs": [
    {
     "data": {
      "text/plain": [
       "False"
      ]
     },
     "execution_count": 58,
     "metadata": {},
     "output_type": "execute_result"
    }
   ],
   "source": [
    "b==a"
   ]
  },
  {
   "cell_type": "code",
   "execution_count": 60,
   "id": "8ac08002-71d7-467e-9e66-923efc2c9037",
   "metadata": {},
   "outputs": [
    {
     "data": {
      "text/plain": [
       "'rakesh gupta'"
      ]
     },
     "execution_count": 60,
     "metadata": {},
     "output_type": "execute_result"
    }
   ],
   "source": [
    "b+a"
   ]
  },
  {
   "cell_type": "code",
   "execution_count": 64,
   "id": "159a6532-04a9-43b6-8522-4ae0904e5bf6",
   "metadata": {},
   "outputs": [
    {
     "name": "stdout",
     "output_type": "stream",
     "text": [
      "gupta\n"
     ]
    }
   ],
   "source": [
    "print(a)"
   ]
  },
  {
   "cell_type": "code",
   "execution_count": null,
   "id": "7a8814d7-a003-4c33-a4d6-e8da3a62da82",
   "metadata": {},
   "outputs": [],
   "source": [
    "\n"
   ]
  },
  {
   "cell_type": "code",
   "execution_count": null,
   "id": "8192938a-6143-49fe-9bc1-37932c411cb6",
   "metadata": {},
   "outputs": [],
   "source": [
    "a = input(\"\")"
   ]
  },
  {
   "cell_type": "code",
   "execution_count": 74,
   "id": "abecfab2-b5d9-4fed-86c8-802a1185c27a",
   "metadata": {},
   "outputs": [
    {
     "name": "stdout",
     "output_type": "stream",
     "text": [
      "hi rakesh \n"
     ]
    }
   ],
   "source": [
    "print(\"hi {}\".format(b))"
   ]
  },
  {
   "cell_type": "code",
   "execution_count": null,
   "id": "bc34b9ad-d7ca-4920-8b2b-60be92280fd0",
   "metadata": {},
   "outputs": [],
   "source": []
  },
  {
   "cell_type": "code",
   "execution_count": null,
   "id": "ca990aa9-fd22-4fe0-8b5e-32c3a7ab75fd",
   "metadata": {},
   "outputs": [],
   "source": []
  }
 ],
 "metadata": {
  "kernelspec": {
   "display_name": "Python 3 (ipykernel)",
   "language": "python",
   "name": "python3"
  },
  "language_info": {
   "codemirror_mode": {
    "name": "ipython",
    "version": 3
   },
   "file_extension": ".py",
   "mimetype": "text/x-python",
   "name": "python",
   "nbconvert_exporter": "python",
   "pygments_lexer": "ipython3",
   "version": "3.12.4"
  }
 },
 "nbformat": 4,
 "nbformat_minor": 5
}
